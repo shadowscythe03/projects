{
  "nbformat": 4,
  "nbformat_minor": 0,
  "metadata": {
    "colab": {
      "provenance": []
    },
    "kernelspec": {
      "name": "python3",
      "display_name": "Python 3"
    },
    "language_info": {
      "name": "python"
    }
  },
  "cells": [
    {
      "cell_type": "markdown",
      "source": [
        "## Mount Google Drive"
      ],
      "metadata": {
        "id": "RYD9-W_lvg3f"
      }
    },
    {
      "cell_type": "code",
      "source": [
        "from google.colab import drive\n",
        "drive.mount('/content/drive')"
      ],
      "metadata": {
        "colab": {
          "base_uri": "https://localhost:8080/"
        },
        "id": "jjv5hJBuvnF0",
        "outputId": "f280e53a-a268-4936-ae69-fa0dcd6e9bb8"
      },
      "execution_count": null,
      "outputs": [
        {
          "output_type": "stream",
          "name": "stdout",
          "text": [
            "Mounted at /content/drive\n"
          ]
        }
      ]
    },
    {
      "cell_type": "markdown",
      "source": [
        "## Train, Validation and Test Set Indices"
      ],
      "metadata": {
        "id": "kxJR1n2tow_v"
      }
    },
    {
      "cell_type": "code",
      "source": [
        "train_set = [10, 18, 20, 22, 23, 24, 25, 26, 31, 32, 34, 37, 46, 48, 49, 50, 51, 58, 61, 73, 94, 101, 102, 108, 110, 114, 115, 123, 127, 129, 130, 140, 156, 170, 175, 180, 191, 211, 213, 216, 218, 223, 232, 237, 241, 243, 246, 247, 272, 273, 279, 291, 301, 310, 311, 317]\n",
        "\n",
        "test_set = [4, 30, 38, 52, 65, 71, 77, 91, 97, 100, 106, 107, 109, 119, 121, 149, 166, 172, 174, 184, 192, 199, 200, 215, 221, 227, 250, 253, 258, 259, 278, 286, 309]\n",
        "\n",
        "validation_set = [45, 53, 56, 59, 76, 85, 88, 98, 103, 105, 142, 143, 157, 163, 164, 171, 217, 224, 229, 235, 308, 325, 330]"
      ],
      "metadata": {
        "id": "-ocBRuq2uIhT"
      },
      "execution_count": null,
      "outputs": []
    },
    {
      "cell_type": "code",
      "source": [
        "train_set_length = len(train_set)\n",
        "test_set_length = len(test_set)\n",
        "validation_set_length = len(validation_set)\n",
        "\n",
        "print(\"Length of the train set:\", train_set_length)\n",
        "print(\"Length of the testing set:\", test_set_length)\n",
        "print(\"Length of the validation set:\", validation_set_length)"
      ],
      "metadata": {
        "colab": {
          "base_uri": "https://localhost:8080/"
        },
        "id": "l9AMpNOAuLie",
        "outputId": "2d3a393e-a20d-4e14-ddc0-82b196727f09"
      },
      "execution_count": null,
      "outputs": [
        {
          "output_type": "stream",
          "name": "stdout",
          "text": [
            "Length of the train set: 56\n",
            "Length of the testing set: 33\n",
            "Length of the validation set: 23\n"
          ]
        }
      ]
    },
    {
      "cell_type": "markdown",
      "source": [
        "## Utility Functions"
      ],
      "metadata": {
        "id": "nydqeQkNpVXE"
      }
    },
    {
      "cell_type": "code",
      "source": [
        "# Function to read contents of a file and filter out empty lines\n",
        "def read_file_content(file_path):\n",
        "    with open(file_path, 'r') as file:\n",
        "        lines = (line.strip() for line in file if line.strip())\n",
        "        return ' '.join(lines)\n",
        "\n",
        "# Function to group files based on their indexes\n",
        "def group_files_by_index(folder_path, indexes, folder_name):\n",
        "    grouped_contents = [''] * len(indexes)\n",
        "    for index in indexes:\n",
        "        file_path = f\"{folder_path}/{folder_name}_{index}.txt\"\n",
        "        content = read_file_content(file_path)\n",
        "        grouped_contents[indexes.index(index)] = content\n",
        "    return grouped_contents\n",
        "\n",
        "# Function to write the grouped contents to output files\n",
        "def write_output_file(file_name, content):\n",
        "    with open(file_name, 'w') as output_file:\n",
        "        output_file.write(content)"
      ],
      "metadata": {
        "id": "sMas5nVvvUVc"
      },
      "execution_count": null,
      "outputs": []
    },
    {
      "cell_type": "markdown",
      "source": [
        "## Preprocessing"
      ],
      "metadata": {
        "id": "r_-US8qppY4k"
      }
    },
    {
      "cell_type": "code",
      "source": [
        "folder_path = \"/content/drive/MyDrive/NLP_Project/PSAT/Original\"\n",
        "folder_name = 'original'\n",
        "train_group = group_files_by_index(folder_path, train_set,folder_name)\n",
        "test_group = group_files_by_index(folder_path, test_set,folder_name)\n",
        "valid_group = group_files_by_index(folder_path, validation_set,folder_name)\n",
        "\n",
        "write_output_file('PSAT.train.complex', '\\n'.join(train_group))\n",
        "write_output_file('PSAT.test.complex', '\\n'.join(test_group))\n",
        "write_output_file('PSAT.valid.complex', '\\n'.join(valid_group))"
      ],
      "metadata": {
        "id": "WJHFq32hwOr9"
      },
      "execution_count": null,
      "outputs": []
    },
    {
      "cell_type": "code",
      "source": [
        "folder_path = \"/content/drive/MyDrive/NLP_Project/PSAT/Simplified\"\n",
        "folder_name = 'simplified'\n",
        "train_group = group_files_by_index(folder_path, train_set,folder_name)\n",
        "test_group = group_files_by_index(folder_path, test_set,folder_name)\n",
        "valid_group = group_files_by_index(folder_path, validation_set,folder_name)\n",
        "\n",
        "write_output_file('PSAT.train.simple', '\\n'.join(train_group))\n",
        "write_output_file('PSAT.test.simple', '\\n'.join(test_group))\n",
        "write_output_file('PSAT.valid.simple', '\\n'.join(valid_group))"
      ],
      "metadata": {
        "id": "MK7SVlxXxzLj"
      },
      "execution_count": null,
      "outputs": []
    },
    {
      "cell_type": "markdown",
      "source": [
        "## Download Preprocessed Dataset"
      ],
      "metadata": {
        "id": "a-kaKmWMo9Fx"
      }
    },
    {
      "cell_type": "code",
      "source": [
        "import zipfile\n",
        "\n",
        "file_names = ['PSAT.train.complex', 'PSAT.test.complex', 'PSAT.valid.complex','PSAT.train.simple', 'PSAT.test.simple', 'PSAT.valid.simple']\n",
        "\n",
        "# Create a zip file\n",
        "with zipfile.ZipFile('PSAT.zip', 'w') as zipf:\n",
        "    # Add each file to the zip\n",
        "    for file_name in file_names:\n",
        "        zipf.write(file_name)"
      ],
      "metadata": {
        "id": "mlhtPnGjyvWk"
      },
      "execution_count": null,
      "outputs": []
    },
    {
      "cell_type": "code",
      "source": [
        "# Download the zip file\n",
        "from google.colab import files\n",
        "files.download('PSAT.zip')"
      ],
      "metadata": {
        "id": "nCvaNhH8y8QM",
        "colab": {
          "base_uri": "https://localhost:8080/",
          "height": 17
        },
        "outputId": "2e665980-388c-4d8e-9ee3-9046d2e70922"
      },
      "execution_count": null,
      "outputs": [
        {
          "output_type": "display_data",
          "data": {
            "text/plain": [
              "<IPython.core.display.Javascript object>"
            ],
            "application/javascript": [
              "\n",
              "    async function download(id, filename, size) {\n",
              "      if (!google.colab.kernel.accessAllowed) {\n",
              "        return;\n",
              "      }\n",
              "      const div = document.createElement('div');\n",
              "      const label = document.createElement('label');\n",
              "      label.textContent = `Downloading \"${filename}\": `;\n",
              "      div.appendChild(label);\n",
              "      const progress = document.createElement('progress');\n",
              "      progress.max = size;\n",
              "      div.appendChild(progress);\n",
              "      document.body.appendChild(div);\n",
              "\n",
              "      const buffers = [];\n",
              "      let downloaded = 0;\n",
              "\n",
              "      const channel = await google.colab.kernel.comms.open(id);\n",
              "      // Send a message to notify the kernel that we're ready.\n",
              "      channel.send({})\n",
              "\n",
              "      for await (const message of channel.messages) {\n",
              "        // Send a message to notify the kernel that we're ready.\n",
              "        channel.send({})\n",
              "        if (message.buffers) {\n",
              "          for (const buffer of message.buffers) {\n",
              "            buffers.push(buffer);\n",
              "            downloaded += buffer.byteLength;\n",
              "            progress.value = downloaded;\n",
              "          }\n",
              "        }\n",
              "      }\n",
              "      const blob = new Blob(buffers, {type: 'application/binary'});\n",
              "      const a = document.createElement('a');\n",
              "      a.href = window.URL.createObjectURL(blob);\n",
              "      a.download = filename;\n",
              "      div.appendChild(a);\n",
              "      a.click();\n",
              "      div.remove();\n",
              "    }\n",
              "  "
            ]
          },
          "metadata": {}
        },
        {
          "output_type": "display_data",
          "data": {
            "text/plain": [
              "<IPython.core.display.Javascript object>"
            ],
            "application/javascript": [
              "download(\"download_e9ac6fb0-f2a0-49a1-a7ce-427afcfb111a\", \"PSAT.zip\", 320024)"
            ]
          },
          "metadata": {}
        }
      ]
    }
  ]
}